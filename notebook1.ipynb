{
 "cells": [
  {
   "cell_type": "code",
   "execution_count": 1,
   "metadata": {},
   "outputs": [],
   "source": [
    "! pip install --upgrade --quiet cassio"
   ]
  },
  {
   "cell_type": "code",
   "execution_count": 2,
   "metadata": {},
   "outputs": [],
   "source": [
    "from cassandra.auth import PlainTextAuthProvider\n",
    "from cassandra.cluster import Cluster"
   ]
  },
  {
   "cell_type": "code",
   "execution_count": 3,
   "metadata": {},
   "outputs": [],
   "source": [
    "KEYSPACE_NAME = \"infobarbank\""
   ]
  },
  {
   "cell_type": "code",
   "execution_count": 4,
   "metadata": {},
   "outputs": [],
   "source": [
    "cluster = Cluster()\n",
    "session = cluster.connect()"
   ]
  },
  {
   "cell_type": "code",
   "execution_count": 5,
   "metadata": {},
   "outputs": [
    {
     "name": "stdout",
     "output_type": "stream",
     "text": [
      "{'system_auth': <cassandra.metadata.KeyspaceMetadata object at 0x7fa53846a170>, 'system_schema': <cassandra.metadata.KeyspaceMetadata object at 0x7fa5382d5c00>, 'infobarbank2': <cassandra.metadata.KeyspaceMetadata object at 0x7fa53833cd30>, 'system_distributed': <cassandra.metadata.KeyspaceMetadata object at 0x7fa53833d450>, 'system': <cassandra.metadata.KeyspaceMetadata object at 0x7fa53833e320>, 'infobarbank': <cassandra.metadata.KeyspaceMetadata object at 0x7fa53834a410>, 'system_traces': <cassandra.metadata.KeyspaceMetadata object at 0x7fa53834a6b0>, 'system_views': <cassandra.metadata.KeyspaceMetadata object at 0x7fa53834ae60>, 'system_virtual_schema': <cassandra.metadata.KeyspaceMetadata object at 0x7fa538372440>}\n"
     ]
    }
   ],
   "source": [
    "print(cluster.metadata.keyspaces)"
   ]
  },
  {
   "cell_type": "code",
   "execution_count": 6,
   "metadata": {},
   "outputs": [],
   "source": [
    "from langchain_community.chat_message_histories import (\n",
    "    CassandraChatMessageHistory,\n",
    ")\n",
    "\n",
    "message_history = CassandraChatMessageHistory(\n",
    "    session_id=\"test-session\",\n",
    "    session=session,\n",
    "    keyspace=KEYSPACE_NAME,\n",
    ")\n",
    "\n",
    "message_history.add_user_message(\"Olá! Meu nome é Barbosa\")\n",
    "\n",
    "message_history.add_ai_message(\"whats up?\")"
   ]
  },
  {
   "cell_type": "code",
   "execution_count": 7,
   "metadata": {},
   "outputs": [
    {
     "data": {
      "text/plain": [
       "[HumanMessage(content='Olá! Meu nome é Barbosa'),\n",
       " AIMessage(content='whats up?')]"
      ]
     },
     "execution_count": 7,
     "metadata": {},
     "output_type": "execute_result"
    }
   ],
   "source": [
    "message_history.messages"
   ]
  },
  {
   "cell_type": "code",
   "execution_count": 8,
   "metadata": {},
   "outputs": [],
   "source": [
    "from langchain.memory import ConversationBufferMemory"
   ]
  },
  {
   "cell_type": "code",
   "execution_count": 9,
   "metadata": {},
   "outputs": [],
   "source": [
    "cassBuffMemory = ConversationBufferMemory(\n",
    "    chat_memory=message_history,\n",
    ")"
   ]
  },
  {
   "cell_type": "code",
   "execution_count": 10,
   "metadata": {},
   "outputs": [],
   "source": [
    "from langchain_openai import OpenAI"
   ]
  },
  {
   "cell_type": "code",
   "execution_count": 11,
   "metadata": {},
   "outputs": [],
   "source": [
    "llm = OpenAI()"
   ]
  },
  {
   "cell_type": "code",
   "execution_count": 12,
   "metadata": {},
   "outputs": [],
   "source": [
    "from langchain.chains import ConversationChain"
   ]
  },
  {
   "cell_type": "code",
   "execution_count": 13,
   "metadata": {},
   "outputs": [],
   "source": [
    "conversation = ConversationChain(\n",
    "    llm=llm, \n",
    "    verbose=True, \n",
    "    memory=cassBuffMemory,\n",
    ")"
   ]
  },
  {
   "cell_type": "code",
   "execution_count": 14,
   "metadata": {},
   "outputs": [
    {
     "name": "stdout",
     "output_type": "stream",
     "text": [
      "\n",
      "\n",
      "\u001b[1m> Entering new ConversationChain chain...\u001b[0m\n",
      "Prompt after formatting:\n",
      "\u001b[32;1m\u001b[1;3mThe following is a friendly conversation between a human and an AI. The AI is talkative and provides lots of specific details from its context. If the AI does not know the answer to a question, it truthfully says it does not know.\n",
      "\n",
      "Current conversation:\n",
      "Human: Olá! Meu nome é Barbosa\n",
      "AI: whats up?\n",
      "Human: Hello, what is my name?\n",
      "AI:\u001b[0m\n",
      "\n",
      "\u001b[1m> Finished chain.\u001b[0m\n"
     ]
    },
    {
     "data": {
      "text/plain": [
       "' Your name is Barbosa.'"
      ]
     },
     "execution_count": 14,
     "metadata": {},
     "output_type": "execute_result"
    }
   ],
   "source": [
    "conversation.predict(input=\"Hello, what is my name?\")"
   ]
  },
  {
   "cell_type": "code",
   "execution_count": 15,
   "metadata": {},
   "outputs": [
    {
     "data": {
      "text/plain": [
       "[HumanMessage(content='Olá! Meu nome é Barbosa'),\n",
       " AIMessage(content='whats up?'),\n",
       " HumanMessage(content='Hello, what is my name?'),\n",
       " AIMessage(content=' Your name is Barbosa.')]"
      ]
     },
     "execution_count": 15,
     "metadata": {},
     "output_type": "execute_result"
    }
   ],
   "source": [
    "message_history.messages"
   ]
  },
  {
   "cell_type": "code",
   "execution_count": 16,
   "metadata": {},
   "outputs": [
    {
     "name": "stdout",
     "output_type": "stream",
     "text": [
      "\n",
      "\n",
      "\u001b[1m> Entering new ConversationChain chain...\u001b[0m\n",
      "Prompt after formatting:\n",
      "\u001b[32;1m\u001b[1;3mThe following is a friendly conversation between a human and an AI. The AI is talkative and provides lots of specific details from its context. If the AI does not know the answer to a question, it truthfully says it does not know.\n",
      "\n",
      "Current conversation:\n",
      "Human: Olá! Meu nome é Barbosa\n",
      "AI: whats up?\n",
      "Human: Hello, what is my name?\n",
      "AI:  Your name is Barbosa.\n",
      "Human: Me fale meu nome. Responda em portugues.\n",
      "AI:\u001b[0m\n",
      "\n",
      "\u001b[1m> Finished chain.\u001b[0m\n"
     ]
    },
    {
     "data": {
      "text/plain": [
       "' Seu nome é Barbosa. Eu posso falar em português, mas meu idioma principal é o inglês.'"
      ]
     },
     "execution_count": 16,
     "metadata": {},
     "output_type": "execute_result"
    }
   ],
   "source": [
    "conversation.predict(input=\"Me fale meu nome. Responda em portugues.\")"
   ]
  },
  {
   "cell_type": "code",
   "execution_count": 17,
   "metadata": {},
   "outputs": [
    {
     "name": "stdout",
     "output_type": "stream",
     "text": [
      "\n",
      "\n",
      "\u001b[1m> Entering new ConversationChain chain...\u001b[0m\n",
      "Prompt after formatting:\n",
      "\u001b[32;1m\u001b[1;3mThe following is a friendly conversation between a human and an AI. The AI is talkative and provides lots of specific details from its context. If the AI does not know the answer to a question, it truthfully says it does not know.\n",
      "\n",
      "Current conversation:\n",
      "Human: Olá! Meu nome é Barbosa\n",
      "AI: whats up?\n",
      "Human: Hello, what is my name?\n",
      "AI:  Your name is Barbosa.\n",
      "Human: Me fale meu nome. Responda em portugues.\n",
      "AI:  Seu nome é Barbosa. Eu posso falar em português, mas meu idioma principal é o inglês.\n",
      "Human: Como fritar um ovo?\n",
      "AI:\u001b[0m\n",
      "\n",
      "\u001b[1m> Finished chain.\u001b[0m\n"
     ]
    },
    {
     "data": {
      "text/plain": [
       "' Para fritar um ovo, você precisará de uma frigideira, óleo ou manteiga, e ovos. Comece aquecendo a frigideira no fogão em fogo médio. Em seguida, adicione o óleo ou manteiga e deixe-a derreter. Quebre o ovo e coloque-o na frigideira. Deixe cozinhar por alguns minutos até a clara ficar firme e a gema atingir o nível de cozimento desejado. Use uma espátula para retirar o ovo da frigideira e sirva. Espero que isso ajude!'"
      ]
     },
     "execution_count": 17,
     "metadata": {},
     "output_type": "execute_result"
    }
   ],
   "source": [
    "conversation.predict(input=\"Como fritar um ovo?\")"
   ]
  },
  {
   "cell_type": "code",
   "execution_count": 18,
   "metadata": {},
   "outputs": [
    {
     "data": {
      "text/plain": [
       "[HumanMessage(content='Olá! Meu nome é Barbosa'),\n",
       " AIMessage(content='whats up?'),\n",
       " HumanMessage(content='Hello, what is my name?'),\n",
       " AIMessage(content=' Your name is Barbosa.'),\n",
       " HumanMessage(content='Me fale meu nome. Responda em portugues.'),\n",
       " AIMessage(content=' Seu nome é Barbosa. Eu posso falar em português, mas meu idioma principal é o inglês.'),\n",
       " HumanMessage(content='Como fritar um ovo?'),\n",
       " AIMessage(content=' Para fritar um ovo, você precisará de uma frigideira, óleo ou manteiga, e ovos. Comece aquecendo a frigideira no fogão em fogo médio. Em seguida, adicione o óleo ou manteiga e deixe-a derreter. Quebre o ovo e coloque-o na frigideira. Deixe cozinhar por alguns minutos até a clara ficar firme e a gema atingir o nível de cozimento desejado. Use uma espátula para retirar o ovo da frigideira e sirva. Espero que isso ajude!')]"
      ]
     },
     "execution_count": 18,
     "metadata": {},
     "output_type": "execute_result"
    }
   ],
   "source": [
    "message_history.messages"
   ]
  },
  {
   "cell_type": "code",
   "execution_count": 19,
   "metadata": {},
   "outputs": [
    {
     "name": "stdout",
     "output_type": "stream",
     "text": [
      "\n",
      "\n",
      "\u001b[1m> Entering new ConversationChain chain...\u001b[0m\n",
      "Prompt after formatting:\n",
      "\u001b[32;1m\u001b[1;3mThe following is a friendly conversation between a human and an AI. The AI is talkative and provides lots of specific details from its context. If the AI does not know the answer to a question, it truthfully says it does not know.\n",
      "\n",
      "Current conversation:\n",
      "Human: Olá! Meu nome é Barbosa\n",
      "AI: whats up?\n",
      "Human: Hello, what is my name?\n",
      "AI:  Your name is Barbosa.\n",
      "Human: Me fale meu nome. Responda em portugues.\n",
      "AI:  Seu nome é Barbosa. Eu posso falar em português, mas meu idioma principal é o inglês.\n",
      "Human: Como fritar um ovo?\n",
      "AI:  Para fritar um ovo, você precisará de uma frigideira, óleo ou manteiga, e ovos. Comece aquecendo a frigideira no fogão em fogo médio. Em seguida, adicione o óleo ou manteiga e deixe-a derreter. Quebre o ovo e coloque-o na frigideira. Deixe cozinhar por alguns minutos até a clara ficar firme e a gema atingir o nível de cozimento desejado. Use uma espátula para retirar o ovo da frigideira e sirva. Espero que isso ajude!\n",
      "Human: Qual foi a primeira pergunta que eu fiz?\n",
      "AI:\u001b[0m\n",
      "\n",
      "\u001b[1m> Finished chain.\u001b[0m\n"
     ]
    },
    {
     "data": {
      "text/plain": [
       "' A primeira pergunta que você fez foi \"Hello, what is my name?\" (Olá, qual é o meu nome?)'"
      ]
     },
     "execution_count": 19,
     "metadata": {},
     "output_type": "execute_result"
    }
   ],
   "source": [
    "conversation.predict(input=\"Qual foi a primeira pergunta que eu fiz?\")"
   ]
  },
  {
   "cell_type": "code",
   "execution_count": 20,
   "metadata": {},
   "outputs": [
    {
     "data": {
      "text/plain": [
       "[HumanMessage(content='Olá! Meu nome é Barbosa'),\n",
       " AIMessage(content='whats up?'),\n",
       " HumanMessage(content='Hello, what is my name?'),\n",
       " AIMessage(content=' Your name is Barbosa.'),\n",
       " HumanMessage(content='Me fale meu nome. Responda em portugues.'),\n",
       " AIMessage(content=' Seu nome é Barbosa. Eu posso falar em português, mas meu idioma principal é o inglês.'),\n",
       " HumanMessage(content='Como fritar um ovo?'),\n",
       " AIMessage(content=' Para fritar um ovo, você precisará de uma frigideira, óleo ou manteiga, e ovos. Comece aquecendo a frigideira no fogão em fogo médio. Em seguida, adicione o óleo ou manteiga e deixe-a derreter. Quebre o ovo e coloque-o na frigideira. Deixe cozinhar por alguns minutos até a clara ficar firme e a gema atingir o nível de cozimento desejado. Use uma espátula para retirar o ovo da frigideira e sirva. Espero que isso ajude!'),\n",
       " HumanMessage(content='Qual foi a primeira pergunta que eu fiz?'),\n",
       " AIMessage(content=' A primeira pergunta que você fez foi \"Hello, what is my name?\" (Olá, qual é o meu nome?)')]"
      ]
     },
     "execution_count": 20,
     "metadata": {},
     "output_type": "execute_result"
    }
   ],
   "source": [
    "message_history.messages"
   ]
  },
  {
   "cell_type": "code",
   "execution_count": 21,
   "metadata": {},
   "outputs": [
    {
     "data": {
      "text/plain": [
       "<bound method CassandraChatMessageHistory.clear of <langchain_community.chat_message_histories.cassandra.CassandraChatMessageHistory object at 0x7fa5382d4af0>>"
      ]
     },
     "execution_count": 21,
     "metadata": {},
     "output_type": "execute_result"
    }
   ],
   "source": [
    "message_history.clear"
   ]
  },
  {
   "cell_type": "code",
   "execution_count": 22,
   "metadata": {},
   "outputs": [
    {
     "data": {
      "text/plain": [
       "[HumanMessage(content='Olá! Meu nome é Barbosa'),\n",
       " AIMessage(content='whats up?'),\n",
       " HumanMessage(content='Hello, what is my name?'),\n",
       " AIMessage(content=' Your name is Barbosa.'),\n",
       " HumanMessage(content='Me fale meu nome. Responda em portugues.'),\n",
       " AIMessage(content=' Seu nome é Barbosa. Eu posso falar em português, mas meu idioma principal é o inglês.'),\n",
       " HumanMessage(content='Como fritar um ovo?'),\n",
       " AIMessage(content=' Para fritar um ovo, você precisará de uma frigideira, óleo ou manteiga, e ovos. Comece aquecendo a frigideira no fogão em fogo médio. Em seguida, adicione o óleo ou manteiga e deixe-a derreter. Quebre o ovo e coloque-o na frigideira. Deixe cozinhar por alguns minutos até a clara ficar firme e a gema atingir o nível de cozimento desejado. Use uma espátula para retirar o ovo da frigideira e sirva. Espero que isso ajude!'),\n",
       " HumanMessage(content='Qual foi a primeira pergunta que eu fiz?'),\n",
       " AIMessage(content=' A primeira pergunta que você fez foi \"Hello, what is my name?\" (Olá, qual é o meu nome?)')]"
      ]
     },
     "execution_count": 22,
     "metadata": {},
     "output_type": "execute_result"
    }
   ],
   "source": [
    "message_history.messages"
   ]
  },
  {
   "cell_type": "code",
   "execution_count": 23,
   "metadata": {},
   "outputs": [
    {
     "name": "stdout",
     "output_type": "stream",
     "text": [
      "\n",
      "\n",
      "\u001b[1m> Entering new ConversationChain chain...\u001b[0m\n",
      "Prompt after formatting:\n",
      "\u001b[32;1m\u001b[1;3mThe following is a friendly conversation between a human and an AI. The AI is talkative and provides lots of specific details from its context. If the AI does not know the answer to a question, it truthfully says it does not know.\n",
      "\n",
      "Current conversation:\n",
      "Human: Olá! Meu nome é Barbosa\n",
      "AI: whats up?\n",
      "Human: Hello, what is my name?\n",
      "AI:  Your name is Barbosa.\n",
      "Human: Me fale meu nome. Responda em portugues.\n",
      "AI:  Seu nome é Barbosa. Eu posso falar em português, mas meu idioma principal é o inglês.\n",
      "Human: Como fritar um ovo?\n",
      "AI:  Para fritar um ovo, você precisará de uma frigideira, óleo ou manteiga, e ovos. Comece aquecendo a frigideira no fogão em fogo médio. Em seguida, adicione o óleo ou manteiga e deixe-a derreter. Quebre o ovo e coloque-o na frigideira. Deixe cozinhar por alguns minutos até a clara ficar firme e a gema atingir o nível de cozimento desejado. Use uma espátula para retirar o ovo da frigideira e sirva. Espero que isso ajude!\n",
      "Human: Qual foi a primeira pergunta que eu fiz?\n",
      "AI:  A primeira pergunta que você fez foi \"Hello, what is my name?\" (Olá, qual é o meu nome?)\n",
      "Human: O que é LCEL?\n",
      "AI:\u001b[0m\n",
      "\n",
      "\u001b[1m> Finished chain.\u001b[0m\n"
     ]
    }
   ],
   "source": [
    "response = conversation.predict(input=\"O que é LCEL?\")"
   ]
  },
  {
   "cell_type": "code",
   "execution_count": 25,
   "metadata": {},
   "outputs": [
    {
     "name": "stdout",
     "output_type": "stream",
     "text": [
      " Eu não tenho informações suficientes para responder a essa pergunta. LCEL pode significar muitas coisas, como o Laboratório de Ciências Exatas e da Natureza da Universidade Federal de Uberlândia, ou o Programa de Pós-Graduação em Letras e Cultura da Espanha e da América Latina da Universidade Federal de Uberlândia. Por favor, forneça mais contexto para eu poder responder com precisão.\n"
     ]
    }
   ],
   "source": [
    "print(response)"
   ]
  },
  {
   "cell_type": "code",
   "execution_count": 26,
   "metadata": {},
   "outputs": [
    {
     "data": {
      "text/plain": [
       "[HumanMessage(content='Olá! Meu nome é Barbosa'),\n",
       " AIMessage(content='whats up?'),\n",
       " HumanMessage(content='Hello, what is my name?'),\n",
       " AIMessage(content=' Your name is Barbosa.'),\n",
       " HumanMessage(content='Me fale meu nome. Responda em portugues.'),\n",
       " AIMessage(content=' Seu nome é Barbosa. Eu posso falar em português, mas meu idioma principal é o inglês.'),\n",
       " HumanMessage(content='Como fritar um ovo?'),\n",
       " AIMessage(content=' Para fritar um ovo, você precisará de uma frigideira, óleo ou manteiga, e ovos. Comece aquecendo a frigideira no fogão em fogo médio. Em seguida, adicione o óleo ou manteiga e deixe-a derreter. Quebre o ovo e coloque-o na frigideira. Deixe cozinhar por alguns minutos até a clara ficar firme e a gema atingir o nível de cozimento desejado. Use uma espátula para retirar o ovo da frigideira e sirva. Espero que isso ajude!'),\n",
       " HumanMessage(content='Qual foi a primeira pergunta que eu fiz?'),\n",
       " AIMessage(content=' A primeira pergunta que você fez foi \"Hello, what is my name?\" (Olá, qual é o meu nome?)'),\n",
       " HumanMessage(content='O que é LCEL?'),\n",
       " AIMessage(content=' Eu não tenho informações suficientes para responder a essa pergunta. LCEL pode significar muitas coisas, como o Laboratório de Ciências Exatas e da Natureza da Universidade Federal de Uberlândia, ou o Programa de Pós-Graduação em Letras e Cultura da Espanha e da América Latina da Universidade Federal de Uberlândia. Por favor, forneça mais contexto para eu poder responder com precisão.')]"
      ]
     },
     "execution_count": 26,
     "metadata": {},
     "output_type": "execute_result"
    }
   ],
   "source": [
    "message_history.messages"
   ]
  },
  {
   "cell_type": "code",
   "execution_count": 27,
   "metadata": {},
   "outputs": [],
   "source": [
    "message_history.add_user_message(\"Eu tenho pele parda\")"
   ]
  },
  {
   "cell_type": "code",
   "execution_count": 28,
   "metadata": {},
   "outputs": [],
   "source": [
    "message_history.add_user_message(\"Tenho olhos castanhos\")"
   ]
  },
  {
   "cell_type": "code",
   "execution_count": 29,
   "metadata": {},
   "outputs": [],
   "source": [
    "message_history.add_user_message(\"Aliás, meus olhos são castanhos claros\")"
   ]
  },
  {
   "cell_type": "code",
   "execution_count": 30,
   "metadata": {},
   "outputs": [],
   "source": [
    "message_history.add_user_message(\"Eu sou calvo\")"
   ]
  },
  {
   "cell_type": "code",
   "execution_count": 31,
   "metadata": {},
   "outputs": [],
   "source": [
    "message_history.add_user_message(\"Tenho um metro e oitenta de altura\")"
   ]
  },
  {
   "cell_type": "code",
   "execution_count": 32,
   "metadata": {},
   "outputs": [],
   "source": [
    "message_history.add_user_message(\"Estou acima do peso\")"
   ]
  },
  {
   "cell_type": "code",
   "execution_count": null,
   "metadata": {},
   "outputs": [],
   "source": [
    "message_history.add_user_message(\"Eu tenho pele parda\")"
   ]
  },
  {
   "cell_type": "code",
   "execution_count": 33,
   "metadata": {},
   "outputs": [
    {
     "name": "stdout",
     "output_type": "stream",
     "text": [
      "\n",
      "\n",
      "\u001b[1m> Entering new ConversationChain chain...\u001b[0m\n",
      "Prompt after formatting:\n",
      "\u001b[32;1m\u001b[1;3mThe following is a friendly conversation between a human and an AI. The AI is talkative and provides lots of specific details from its context. If the AI does not know the answer to a question, it truthfully says it does not know.\n",
      "\n",
      "Current conversation:\n",
      "Human: Olá! Meu nome é Barbosa\n",
      "AI: whats up?\n",
      "Human: Hello, what is my name?\n",
      "AI:  Your name is Barbosa.\n",
      "Human: Me fale meu nome. Responda em portugues.\n",
      "AI:  Seu nome é Barbosa. Eu posso falar em português, mas meu idioma principal é o inglês.\n",
      "Human: Como fritar um ovo?\n",
      "AI:  Para fritar um ovo, você precisará de uma frigideira, óleo ou manteiga, e ovos. Comece aquecendo a frigideira no fogão em fogo médio. Em seguida, adicione o óleo ou manteiga e deixe-a derreter. Quebre o ovo e coloque-o na frigideira. Deixe cozinhar por alguns minutos até a clara ficar firme e a gema atingir o nível de cozimento desejado. Use uma espátula para retirar o ovo da frigideira e sirva. Espero que isso ajude!\n",
      "Human: Qual foi a primeira pergunta que eu fiz?\n",
      "AI:  A primeira pergunta que você fez foi \"Hello, what is my name?\" (Olá, qual é o meu nome?)\n",
      "Human: O que é LCEL?\n",
      "AI:  Eu não tenho informações suficientes para responder a essa pergunta. LCEL pode significar muitas coisas, como o Laboratório de Ciências Exatas e da Natureza da Universidade Federal de Uberlândia, ou o Programa de Pós-Graduação em Letras e Cultura da Espanha e da América Latina da Universidade Federal de Uberlândia. Por favor, forneça mais contexto para eu poder responder com precisão.\n",
      "Human: Eu tenho pele parda\n",
      "Human: Tenho olhos castanhos\n",
      "Human: Aliás, meus olhos são castanhos claros\n",
      "Human: Eu sou calvo\n",
      "Human: Tenho um metro e oitenta de altura\n",
      "Human: Estou acima do peso\n",
      "Human: Que roupa devo usar para um encontro romântico?\n",
      "AI:\u001b[0m\n",
      "\n",
      "\u001b[1m> Finished chain.\u001b[0m\n"
     ]
    }
   ],
   "source": [
    "response = conversation.predict(input=\"Que roupa devo usar para um encontro romântico?\")"
   ]
  },
  {
   "cell_type": "code",
   "execution_count": 34,
   "metadata": {},
   "outputs": [
    {
     "name": "stdout",
     "output_type": "stream",
     "text": [
      " Com base nas informações que você me deu, eu recomendaria usar uma camisa branca, calças cáqui e sapatos pretos para um encontro romântico. Isso criará um visual elegante e sofisticado. No entanto, sinta-se à vontade para escolher algo que se sinta confortável e confiante para usar. O mais importante é ser você mesmo e aproveitar o encontro!\n"
     ]
    }
   ],
   "source": [
    "print(response)"
   ]
  },
  {
   "cell_type": "code",
   "execution_count": 35,
   "metadata": {},
   "outputs": [
    {
     "name": "stdout",
     "output_type": "stream",
     "text": [
      "\n",
      "\n",
      "\u001b[1m> Entering new ConversationChain chain...\u001b[0m\n",
      "Prompt after formatting:\n",
      "\u001b[32;1m\u001b[1;3mThe following is a friendly conversation between a human and an AI. The AI is talkative and provides lots of specific details from its context. If the AI does not know the answer to a question, it truthfully says it does not know.\n",
      "\n",
      "Current conversation:\n",
      "Human: Olá! Meu nome é Barbosa\n",
      "AI: whats up?\n",
      "Human: Hello, what is my name?\n",
      "AI:  Your name is Barbosa.\n",
      "Human: Me fale meu nome. Responda em portugues.\n",
      "AI:  Seu nome é Barbosa. Eu posso falar em português, mas meu idioma principal é o inglês.\n",
      "Human: Como fritar um ovo?\n",
      "AI:  Para fritar um ovo, você precisará de uma frigideira, óleo ou manteiga, e ovos. Comece aquecendo a frigideira no fogão em fogo médio. Em seguida, adicione o óleo ou manteiga e deixe-a derreter. Quebre o ovo e coloque-o na frigideira. Deixe cozinhar por alguns minutos até a clara ficar firme e a gema atingir o nível de cozimento desejado. Use uma espátula para retirar o ovo da frigideira e sirva. Espero que isso ajude!\n",
      "Human: Qual foi a primeira pergunta que eu fiz?\n",
      "AI:  A primeira pergunta que você fez foi \"Hello, what is my name?\" (Olá, qual é o meu nome?)\n",
      "Human: O que é LCEL?\n",
      "AI:  Eu não tenho informações suficientes para responder a essa pergunta. LCEL pode significar muitas coisas, como o Laboratório de Ciências Exatas e da Natureza da Universidade Federal de Uberlândia, ou o Programa de Pós-Graduação em Letras e Cultura da Espanha e da América Latina da Universidade Federal de Uberlândia. Por favor, forneça mais contexto para eu poder responder com precisão.\n",
      "Human: Eu tenho pele parda\n",
      "Human: Tenho olhos castanhos\n",
      "Human: Aliás, meus olhos são castanhos claros\n",
      "Human: Eu sou calvo\n",
      "Human: Tenho um metro e oitenta de altura\n",
      "Human: Estou acima do peso\n",
      "Human: Que roupa devo usar para um encontro romântico?\n",
      "AI:  Com base nas informações que você me deu, eu recomendaria usar uma camisa branca, calças cáqui e sapatos pretos para um encontro romântico. Isso criará um visual elegante e sofisticado. No entanto, sinta-se à vontade para escolher algo que se sinta confortável e confiante para usar. O mais importante é ser você mesmo e aproveitar o encontro!\n",
      "Human: Qual a minha cartela de cores?\n",
      "AI:\u001b[0m\n",
      "\n",
      "\u001b[1m> Finished chain.\u001b[0m\n",
      " Eu não tenho informações suficientes sobre suas preferências de cores para determinar sua cartela de cores. Pode ser útil consultar um profissional de moda ou fazer um teste online para descobrir sua cartela de cores pessoal.\n"
     ]
    }
   ],
   "source": [
    "response = conversation.predict(input=\"Qual a minha cartela de cores?\")\n",
    "print(response)"
   ]
  },
  {
   "cell_type": "code",
   "execution_count": null,
   "metadata": {},
   "outputs": [],
   "source": []
  }
 ],
 "metadata": {
  "kernelspec": {
   "display_name": "Python 3",
   "language": "python",
   "name": "python3"
  },
  "language_info": {
   "codemirror_mode": {
    "name": "ipython",
    "version": 3
   },
   "file_extension": ".py",
   "mimetype": "text/x-python",
   "name": "python",
   "nbconvert_exporter": "python",
   "pygments_lexer": "ipython3",
   "version": "3.10.12"
  }
 },
 "nbformat": 4,
 "nbformat_minor": 2
}

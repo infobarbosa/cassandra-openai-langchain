{
 "cells": [
  {
   "cell_type": "code",
   "execution_count": 1,
   "metadata": {},
   "outputs": [],
   "source": [
    "! pip install -q -U langchain_community langchain_openai langchain_core"
   ]
  },
  {
   "cell_type": "code",
   "execution_count": 3,
   "metadata": {},
   "outputs": [
    {
     "name": "stderr",
     "output_type": "stream",
     "text": [
      "USER_AGENT environment variable not set, consider setting it to identify your requests.\n"
     ]
    }
   ],
   "source": [
    "from langchain_openai import ChatOpenAI\n",
    "from langchain_core.prompts import ChatPromptTemplate\n",
    "from langchain.chains.combine_documents.stuff import create_stuff_documents_chain\n",
    "from langchain_community.document_loaders import WebBaseLoader\n",
    "from langchain.text_splitter import RecursiveCharacterTextSplitter\n",
    "from langchain_openai import OpenAIEmbeddings\n",
    "from langchain_community.vectorstores import FAISS\n",
    "from langchain.chains import create_retrieval_chain\n",
    "from langchain_core.messages import HumanMessage, AIMessage\n",
    "from langchain_core.prompts import MessagesPlaceholder\n",
    "from langchain.chains.history_aware_retriever import create_history_aware_retriever\n"
   ]
  },
  {
   "cell_type": "code",
   "execution_count": 4,
   "metadata": {},
   "outputs": [],
   "source": [
    "def get_documents_from_web(url):\n",
    "    loader = WebBaseLoader(url)\n",
    "    docs = loader.load()\n",
    "    splitter = RecursiveCharacterTextSplitter(\n",
    "        chunk_size=400, \n",
    "        chunk_overlap=20\n",
    "    )\n",
    "    splitDocs = splitter.split_documents(docs)\n",
    "    return splitDocs\n"
   ]
  },
  {
   "cell_type": "code",
   "execution_count": 5,
   "metadata": {},
   "outputs": [],
   "source": [
    "def create_db(docs):\n",
    "    embeddings = OpenAIEmbeddings()\n",
    "    vectorStore = Cassandra.from_documents(docs, embeddings)\n",
    "    return vectorStore"
   ]
  },
  {
   "cell_type": "code",
   "execution_count": 6,
   "metadata": {},
   "outputs": [],
   "source": [
    "def create_chain(vectorStore):\n",
    "    model = ChatOpenAI(model=\"gpt-3.5-turbo-1106\", temperature=0.4)\n",
    "\n",
    "    prompt = ChatPromptTemplate.from_messages([\n",
    "        (\"system\", \"Answer the user's questions based on the context: {context}\"),\n",
    "        MessagesPlaceholder(variable_name=\"chat_history\"),\n",
    "        (\"human\", \"{input}\")\n",
    "\n",
    "    ])\n",
    "\n",
    "    chain = create_stuff_documents_chain(\n",
    "        llm=model,\n",
    "        prompt=prompt\n",
    "    )\n",
    "\n",
    "    retriever = vectorStore.as_retriever(search_kwargs={\"k\": 3})\n",
    "    retriever_prompt = ChatPromptTemplate.from_messages([\n",
    "        MessagesPlaceholder(variable_name=\"chat_history\"),\n",
    "        (\"human\", \"{input}\"),\n",
    "        (\"human\", \"Given the context above, generate a search query to look up in order to get information relavant to de conversation\")\n",
    "    ])\n",
    "\n",
    "    history_aware_retriever = create_history_aware_retriever(\n",
    "        llm=model,\n",
    "        retriever=retriever,\n",
    "        prompt=retriever_prompt\n",
    "    )\n",
    "\n",
    "    retrieval_chain = create_retrieval_chain(\n",
    "        history_aware_retriever, \n",
    "        chain\n",
    "    )\n",
    "\n",
    "    return retrieval_chain\n"
   ]
  },
  {
   "cell_type": "code",
   "execution_count": 7,
   "metadata": {},
   "outputs": [],
   "source": [
    "def process_chat(chain, question, chat_history):\n",
    "    response = chain.invoke({\n",
    "        \"input\": question,\n",
    "        \"chat_history\": chat_history\n",
    "    })\n",
    "\n",
    "    print(type(response))\n",
    "\n",
    "    return response[\"answer\"]"
   ]
  },
  {
   "cell_type": "code",
   "execution_count": null,
   "metadata": {},
   "outputs": [],
   "source": [
    "if __name__ == \"__main__\":\n",
    "    docs = get_documents_from_web(\"https://python.langchain.com/v0.1/docs/expression_language/\")\n",
    "    vectorStore = create_db(docs)\n",
    "    chain = create_chain(vectorStore)\n",
    "\n",
    "    chat_history = []\n",
    "\n",
    "    user_input = None\n",
    "    while True:\n",
    "        user_input = input(\"Ask me a question: \")\n",
    "        if user_input == \"exit\":\n",
    "            break\n",
    "        elif user_input == \"\":\n",
    "            continue\n",
    "        \n",
    "        response = (process_chat(chain, user_input, chat_history))\n",
    "        chat_history.append(HumanMessage(content=user_input))\n",
    "        chat_history.append(AIMessage(content=response))\n",
    "\n",
    "        print(f\"Assistant: {response}\")"
   ]
  }
 ],
 "metadata": {
  "kernelspec": {
   "display_name": "Python 3",
   "language": "python",
   "name": "python3"
  },
  "language_info": {
   "codemirror_mode": {
    "name": "ipython",
    "version": 3
   },
   "file_extension": ".py",
   "mimetype": "text/x-python",
   "name": "python",
   "nbconvert_exporter": "python",
   "pygments_lexer": "ipython3",
   "version": "3.10.12"
  }
 },
 "nbformat": 4,
 "nbformat_minor": 2
}
